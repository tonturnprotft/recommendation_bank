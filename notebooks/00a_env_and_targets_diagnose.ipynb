{
 "cells": [
  {
   "cell_type": "markdown",
   "id": "8b7f936a",
   "metadata": {},
   "source": [
    "\n",
    "# 00a — Environment & Targets Diagnose\n",
    "\n",
    "Use this helper **once** to:\n",
    "1. Ensure a Parquet engine (pyarrow/fastparquet) is available.\n",
    "2. Verify your `TARGETS_PATH` glob matches files.\n",
    "3. Sniff **target columns** from your targets parquet if they aren't named `target_*`.\n",
    "\n",
    "> Run each cell in order. If you prefer manual installs, skip the install cell and follow the shell commands it prints.\n"
   ]
  },
  {
   "cell_type": "code",
   "execution_count": 1,
   "id": "c75f665b",
   "metadata": {},
   "outputs": [],
   "source": [
    "\n",
    "# ---- Configure your targets path here (glob OK) ----\n",
    "TARGETS_PATH = \"/Users/tree/Projects/recommemdation_bank/data/mbd_mini/targets/fold=*/part-*.parquet\"\n"
   ]
  },
  {
   "cell_type": "code",
   "execution_count": 2,
   "id": "b506ed1a",
   "metadata": {},
   "outputs": [
    {
     "name": "stdout",
     "output_type": "stream",
     "text": [
      "Missing: pyarrow\n",
      "Missing: fastparquet\n",
      "\n",
      "Installing pyarrow (you can cancel and install manually in your venv if you prefer)...\n",
      "Requirement already satisfied: pip in /Library/Frameworks/Python.framework/Versions/3.12/lib/python3.12/site-packages (24.3.1)\n",
      "Collecting pip\n",
      "  Using cached pip-25.2-py3-none-any.whl.metadata (4.7 kB)\n",
      "Requirement already satisfied: setuptools in /Library/Frameworks/Python.framework/Versions/3.12/lib/python3.12/site-packages (80.9.0)\n",
      "Collecting wheel\n",
      "  Using cached wheel-0.45.1-py3-none-any.whl.metadata (2.3 kB)\n",
      "Using cached pip-25.2-py3-none-any.whl (1.8 MB)\n",
      "Using cached wheel-0.45.1-py3-none-any.whl (72 kB)\n",
      "Installing collected packages: wheel, pip\n",
      "  Attempting uninstall: pip\n",
      "    Found existing installation: pip 24.3.1\n",
      "    Uninstalling pip-24.3.1:\n",
      "      Successfully uninstalled pip-24.3.1\n",
      "Successfully installed pip-25.2 wheel-0.45.1\n",
      "Collecting pyarrow\n",
      "  Using cached pyarrow-21.0.0-cp312-cp312-macosx_12_0_arm64.whl.metadata (3.3 kB)\n",
      "Using cached pyarrow-21.0.0-cp312-cp312-macosx_12_0_arm64.whl (31.2 MB)\n",
      "Installing collected packages: pyarrow\n",
      "Successfully installed pyarrow-21.0.0\n",
      "pyarrow installed. You can also install fastparquet optionally: pip install fastparquet\n"
     ]
    }
   ],
   "source": [
    "\n",
    "# ---- 1) Ensure Parquet engine ----\n",
    "import sys, importlib, subprocess\n",
    "\n",
    "def ensure(pkg):\n",
    "    try:\n",
    "        importlib.import_module(pkg)\n",
    "        print(f\"OK: {pkg} already installed\")\n",
    "        return True\n",
    "    except Exception:\n",
    "        print(f\"Missing: {pkg}\")\n",
    "        return False\n",
    "\n",
    "need_pyarrow = not ensure(\"pyarrow\")\n",
    "need_fastpq = not ensure(\"fastparquet\")\n",
    "\n",
    "if need_pyarrow and need_fastpq:\n",
    "    print(\"\\nInstalling pyarrow (you can cancel and install manually in your venv if you prefer)...\")\n",
    "    subprocess.check_call([sys.executable, \"-m\", \"pip\", \"install\", \"--upgrade\", \"pip\", \"setuptools\", \"wheel\"])\n",
    "    subprocess.check_call([sys.executable, \"-m\", \"pip\", \"install\", \"pyarrow\"])\n",
    "    import importlib; importlib.invalidate_caches()\n",
    "    import pyarrow  # noqa: F401\n",
    "    print(\"pyarrow installed. You can also install fastparquet optionally: pip install fastparquet\")\n",
    "else:\n",
    "    print(\"Parquet engine already available.\")\n"
   ]
  },
  {
   "cell_type": "code",
   "execution_count": 3,
   "id": "44721355",
   "metadata": {},
   "outputs": [
    {
     "name": "stdout",
     "output_type": "stream",
     "text": [
      "Matched files: 435\n",
      "/Users/tree/Projects/recommemdation_bank/data/mbd_mini/targets/fold=0/part-00000-44ca8b70-9d42-48f7-9dec-0a7a012af308.c000.snappy.parquet\n",
      "/Users/tree/Projects/recommemdation_bank/data/mbd_mini/targets/fold=0/part-00001-44ca8b70-9d42-48f7-9dec-0a7a012af308.c000.snappy.parquet\n",
      "/Users/tree/Projects/recommemdation_bank/data/mbd_mini/targets/fold=0/part-00002-44ca8b70-9d42-48f7-9dec-0a7a012af308.c000.snappy.parquet\n",
      "/Users/tree/Projects/recommemdation_bank/data/mbd_mini/targets/fold=0/part-00003-44ca8b70-9d42-48f7-9dec-0a7a012af308.c000.snappy.parquet\n",
      "/Users/tree/Projects/recommemdation_bank/data/mbd_mini/targets/fold=0/part-00004-44ca8b70-9d42-48f7-9dec-0a7a012af308.c000.snappy.parquet\n",
      "/Users/tree/Projects/recommemdation_bank/data/mbd_mini/targets/fold=0/part-00005-44ca8b70-9d42-48f7-9dec-0a7a012af308.c000.snappy.parquet\n",
      "/Users/tree/Projects/recommemdation_bank/data/mbd_mini/targets/fold=0/part-00006-44ca8b70-9d42-48f7-9dec-0a7a012af308.c000.snappy.parquet\n",
      "/Users/tree/Projects/recommemdation_bank/data/mbd_mini/targets/fold=0/part-00007-44ca8b70-9d42-48f7-9dec-0a7a012af308.c000.snappy.parquet\n",
      "/Users/tree/Projects/recommemdation_bank/data/mbd_mini/targets/fold=0/part-00008-44ca8b70-9d42-48f7-9dec-0a7a012af308.c000.snappy.parquet\n",
      "/Users/tree/Projects/recommemdation_bank/data/mbd_mini/targets/fold=0/part-00009-44ca8b70-9d42-48f7-9dec-0a7a012af308.c000.snappy.parquet\n"
     ]
    }
   ],
   "source": [
    "\n",
    "# ---- 2) List matched files ----\n",
    "import glob, os\n",
    "paths = sorted(glob.glob(TARGETS_PATH))\n",
    "print(\"Matched files:\", len(paths))\n",
    "print(\"\\n\".join(paths[:10]))\n",
    "if len(paths) == 0:\n",
    "    raise FileNotFoundError(f\"No files matched TARGETS_PATH: {TARGETS_PATH}\")\n"
   ]
  },
  {
   "cell_type": "code",
   "execution_count": 4,
   "id": "536feae6",
   "metadata": {},
   "outputs": [
    {
     "name": "stdout",
     "output_type": "stream",
     "text": [
      "Sample file: /Users/tree/Projects/recommemdation_bank/data/mbd_mini/targets/fold=0/part-00000-44ca8b70-9d42-48f7-9dec-0a7a012af308.c000.snappy.parquet\n",
      "Columns: ['client_id', 'mon', 'target_1', 'target_2', 'target_3', 'target_4', 'trans_count', 'diff_trans_date']\n",
      "                                           client_id         mon  target_1  \\\n",
      "0  00bd0ecf3d5a33aa8756097967d07797dca4c98de9b61c...  2022-02-28         0   \n",
      "1  00bd0ecf3d5a33aa8756097967d07797dca4c98de9b61c...  2022-03-31         0   \n",
      "2  00bd0ecf3d5a33aa8756097967d07797dca4c98de9b61c...  2022-04-30         0   \n",
      "\n",
      "   target_2  target_3  target_4  trans_count  diff_trans_date  \n",
      "0         0         0         0           10              0.0  \n",
      "1         0         0         0           29              0.0  \n",
      "2         0         0         0           51              0.0  \n",
      "\n",
      "Candidate target columns: ['target_1', 'target_2', 'target_3', 'target_4']\n"
     ]
    }
   ],
   "source": [
    "\n",
    "# ---- 3) Peek columns and sniff target columns ----\n",
    "import pandas as pd\n",
    "\n",
    "sample = pd.read_parquet(paths[0])\n",
    "print(\"Sample file:\", paths[0])\n",
    "print(\"Columns:\", list(sample.columns))\n",
    "print(sample.head(3))\n",
    "\n",
    "# Heuristic: columns named like target_* OR binary columns with values subset of {0,1}\n",
    "cand = []\n",
    "for c in sample.columns:\n",
    "    if c.startswith(\"target_\"):\n",
    "        cand.append(c)\n",
    "    else:\n",
    "        try:\n",
    "            u = pd.Series(sample[c].dropna().unique())\n",
    "            if len(u) <= 3 and set(u.astype(int).tolist()).issubset({0,1}):\n",
    "                cand.append(c)\n",
    "        except Exception:\n",
    "            pass\n",
    "\n",
    "print(\"\\nCandidate target columns:\", cand[:20])\n"
   ]
  }
 ],
 "metadata": {
  "kernelspec": {
   "display_name": "Python 3",
   "language": "python",
   "name": "python3"
  },
  "language_info": {
   "codemirror_mode": {
    "name": "ipython",
    "version": 3
   },
   "file_extension": ".py",
   "mimetype": "text/x-python",
   "name": "python",
   "nbconvert_exporter": "python",
   "pygments_lexer": "ipython3",
   "version": "3.12.5"
  }
 },
 "nbformat": 4,
 "nbformat_minor": 5
}
